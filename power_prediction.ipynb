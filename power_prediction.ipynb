{
  "nbformat": 4,
  "nbformat_minor": 0,
  "metadata": {
    "colab": {
      "provenance": [],
      "authorship_tag": "ABX9TyMz7KzTxy3pY4ej7GW9Esnq",
      "include_colab_link": true
    },
    "kernelspec": {
      "name": "python3",
      "display_name": "Python 3"
    },
    "language_info": {
      "name": "python"
    }
  },
  "cells": [
    {
      "cell_type": "markdown",
      "metadata": {
        "id": "view-in-github",
        "colab_type": "text"
      },
      "source": [
        "<a href=\"https://colab.research.google.com/github/sumaaithal/ML/blob/main/power_prediction.ipynb\" target=\"_parent\"><img src=\"https://colab.research.google.com/assets/colab-badge.svg\" alt=\"Open In Colab\"/></a>"
      ]
    },
    {
      "cell_type": "markdown",
      "source": [
        "## Import the libraries"
      ],
      "metadata": {
        "id": "gWB2AAFQi8rB"
      }
    },
    {
      "cell_type": "code",
      "execution_count": 40,
      "metadata": {
        "id": "ceFx4i3Viv8h"
      },
      "outputs": [],
      "source": [
        "import pandas as pd\n",
        "import numpy as np\n",
        "import tensorflow as tf"
      ]
    },
    {
      "cell_type": "code",
      "source": [
        "tf.__version__"
      ],
      "metadata": {
        "colab": {
          "base_uri": "https://localhost:8080/",
          "height": 35
        },
        "id": "T1qe3U6ni54G",
        "outputId": "d8a45d0a-419d-4c93-ed1f-fba412a21f8c"
      },
      "execution_count": 41,
      "outputs": [
        {
          "output_type": "execute_result",
          "data": {
            "text/plain": [
              "'2.12.0'"
            ],
            "application/vnd.google.colaboratory.intrinsic+json": {
              "type": "string"
            }
          },
          "metadata": {},
          "execution_count": 41
        }
      ]
    },
    {
      "cell_type": "markdown",
      "source": [
        "## data pre-processing"
      ],
      "metadata": {
        "id": "Y9QWHA2tjOVc"
      }
    },
    {
      "cell_type": "code",
      "source": [
        "dataset = pd.read_excel(\"/content/Folds5x2_pp.xlsx\")\n",
        "X = dataset.iloc[:,:-1].values\n",
        "y = dataset.iloc[:,-1].values"
      ],
      "metadata": {
        "id": "UTSEYuAVjJkd"
      },
      "execution_count": 42,
      "outputs": []
    },
    {
      "cell_type": "markdown",
      "source": [
        "## splitting the data to train test"
      ],
      "metadata": {
        "id": "6fmw8jUenqUs"
      }
    },
    {
      "cell_type": "code",
      "source": [
        "from sklearn.model_selection import train_test_split"
      ],
      "metadata": {
        "id": "dUg4D4iyjJq2"
      },
      "execution_count": 43,
      "outputs": []
    },
    {
      "cell_type": "code",
      "source": [
        "X_train, X_test, y_train, y_test = train_test_split(X,y,test_size=0.2,random_state=42)"
      ],
      "metadata": {
        "id": "EQlegglTi57E"
      },
      "execution_count": 44,
      "outputs": []
    },
    {
      "cell_type": "markdown",
      "source": [
        "## Build ANN"
      ],
      "metadata": {
        "id": "f1wH8r4HrOEl"
      }
    },
    {
      "cell_type": "code",
      "source": [
        "ann = tf.keras.models.Sequential()"
      ],
      "metadata": {
        "id": "uGp3JO4Ri59s"
      },
      "execution_count": 45,
      "outputs": []
    },
    {
      "cell_type": "code",
      "source": [
        "ann.add(tf.keras.layers.Dense(units=6, activation='relu'))"
      ],
      "metadata": {
        "id": "nMJRWEpni6BW"
      },
      "execution_count": 46,
      "outputs": []
    },
    {
      "cell_type": "code",
      "source": [
        "ann.add(tf.keras.layers.Dense(units=6, activation='relu'))"
      ],
      "metadata": {
        "id": "epKoceG-wElp"
      },
      "execution_count": 47,
      "outputs": []
    },
    {
      "cell_type": "code",
      "source": [
        "ann.add(tf.keras.layers.Dense(units=1))"
      ],
      "metadata": {
        "id": "QtZwYFodwEof"
      },
      "execution_count": 48,
      "outputs": []
    },
    {
      "cell_type": "markdown",
      "source": [
        "## training the ann"
      ],
      "metadata": {
        "id": "tt3SjUfY0WXb"
      }
    },
    {
      "cell_type": "code",
      "source": [
        "ann.compile(optimizer='adam',loss='mean_squared_error')"
      ],
      "metadata": {
        "id": "cS3XVAHwwErS"
      },
      "execution_count": 49,
      "outputs": []
    },
    {
      "cell_type": "code",
      "source": [
        "ann.fit(X_train,y_train,batch_size=32,epochs=100)"
      ],
      "metadata": {
        "colab": {
          "base_uri": "https://localhost:8080/"
        },
        "id": "xo2U3A4BwEut",
        "outputId": "b372daba-c007-4aef-c4b1-776af1e8c310"
      },
      "execution_count": 50,
      "outputs": [
        {
          "output_type": "stream",
          "name": "stdout",
          "text": [
            "Epoch 1/100\n",
            "240/240 [==============================] - 1s 2ms/step - loss: 22791.0176\n",
            "Epoch 2/100\n",
            "240/240 [==============================] - 0s 2ms/step - loss: 340.2521\n",
            "Epoch 3/100\n",
            "240/240 [==============================] - 0s 2ms/step - loss: 327.2596\n",
            "Epoch 4/100\n",
            "240/240 [==============================] - 0s 2ms/step - loss: 311.6510\n",
            "Epoch 5/100\n",
            "240/240 [==============================] - 0s 2ms/step - loss: 293.6589\n",
            "Epoch 6/100\n",
            "240/240 [==============================] - 1s 2ms/step - loss: 273.7551\n",
            "Epoch 7/100\n",
            "240/240 [==============================] - 1s 2ms/step - loss: 252.3210\n",
            "Epoch 8/100\n",
            "240/240 [==============================] - 0s 2ms/step - loss: 230.2254\n",
            "Epoch 9/100\n",
            "240/240 [==============================] - 0s 2ms/step - loss: 206.9549\n",
            "Epoch 10/100\n",
            "240/240 [==============================] - 0s 2ms/step - loss: 183.7900\n",
            "Epoch 11/100\n",
            "240/240 [==============================] - 0s 2ms/step - loss: 160.7429\n",
            "Epoch 12/100\n",
            "240/240 [==============================] - 0s 1ms/step - loss: 138.4166\n",
            "Epoch 13/100\n",
            "240/240 [==============================] - 0s 2ms/step - loss: 117.1241\n",
            "Epoch 14/100\n",
            "240/240 [==============================] - 0s 2ms/step - loss: 97.3130\n",
            "Epoch 15/100\n",
            "240/240 [==============================] - 0s 2ms/step - loss: 80.1512\n",
            "Epoch 16/100\n",
            "240/240 [==============================] - 0s 2ms/step - loss: 65.6827\n",
            "Epoch 17/100\n",
            "240/240 [==============================] - 0s 2ms/step - loss: 54.2646\n",
            "Epoch 18/100\n",
            "240/240 [==============================] - 0s 2ms/step - loss: 45.7992\n",
            "Epoch 19/100\n",
            "240/240 [==============================] - 0s 2ms/step - loss: 40.4722\n",
            "Epoch 20/100\n",
            "240/240 [==============================] - 0s 2ms/step - loss: 37.0981\n",
            "Epoch 21/100\n",
            "240/240 [==============================] - 0s 2ms/step - loss: 35.4036\n",
            "Epoch 22/100\n",
            "240/240 [==============================] - 0s 2ms/step - loss: 34.3416\n",
            "Epoch 23/100\n",
            "240/240 [==============================] - 0s 2ms/step - loss: 33.8194\n",
            "Epoch 24/100\n",
            "240/240 [==============================] - 0s 2ms/step - loss: 33.4387\n",
            "Epoch 25/100\n",
            "240/240 [==============================] - 1s 3ms/step - loss: 32.8320\n",
            "Epoch 26/100\n",
            "240/240 [==============================] - 1s 5ms/step - loss: 32.5967\n",
            "Epoch 27/100\n",
            "240/240 [==============================] - 1s 5ms/step - loss: 31.9250\n",
            "Epoch 28/100\n",
            "240/240 [==============================] - 1s 4ms/step - loss: 31.7647\n",
            "Epoch 29/100\n",
            "240/240 [==============================] - 1s 3ms/step - loss: 31.2261\n",
            "Epoch 30/100\n",
            "240/240 [==============================] - 1s 3ms/step - loss: 30.9237\n",
            "Epoch 31/100\n",
            "240/240 [==============================] - 1s 3ms/step - loss: 30.3822\n",
            "Epoch 32/100\n",
            "240/240 [==============================] - 1s 3ms/step - loss: 29.9769\n",
            "Epoch 33/100\n",
            "240/240 [==============================] - 1s 3ms/step - loss: 29.9066\n",
            "Epoch 34/100\n",
            "240/240 [==============================] - 1s 3ms/step - loss: 29.2418\n",
            "Epoch 35/100\n",
            "240/240 [==============================] - 1s 4ms/step - loss: 29.0351\n",
            "Epoch 36/100\n",
            "240/240 [==============================] - 1s 3ms/step - loss: 28.7151\n",
            "Epoch 37/100\n",
            "240/240 [==============================] - 1s 3ms/step - loss: 28.3320\n",
            "Epoch 38/100\n",
            "240/240 [==============================] - 1s 3ms/step - loss: 28.7976\n",
            "Epoch 39/100\n",
            "240/240 [==============================] - 1s 4ms/step - loss: 28.2524\n",
            "Epoch 40/100\n",
            "240/240 [==============================] - 1s 2ms/step - loss: 27.9549\n",
            "Epoch 41/100\n",
            "240/240 [==============================] - 1s 3ms/step - loss: 27.6605\n",
            "Epoch 42/100\n",
            "240/240 [==============================] - 1s 6ms/step - loss: 27.3468\n",
            "Epoch 43/100\n",
            "240/240 [==============================] - 1s 4ms/step - loss: 27.1750\n",
            "Epoch 44/100\n",
            "240/240 [==============================] - 1s 3ms/step - loss: 27.2781\n",
            "Epoch 45/100\n",
            "240/240 [==============================] - 1s 3ms/step - loss: 27.2806\n",
            "Epoch 46/100\n",
            "240/240 [==============================] - 1s 3ms/step - loss: 27.0134\n",
            "Epoch 47/100\n",
            "240/240 [==============================] - 1s 2ms/step - loss: 27.4538\n",
            "Epoch 48/100\n",
            "240/240 [==============================] - 1s 3ms/step - loss: 26.8507\n",
            "Epoch 49/100\n",
            "240/240 [==============================] - 1s 3ms/step - loss: 26.7219\n",
            "Epoch 50/100\n",
            "240/240 [==============================] - 1s 4ms/step - loss: 26.6487\n",
            "Epoch 51/100\n",
            "240/240 [==============================] - 1s 3ms/step - loss: 27.0811\n",
            "Epoch 52/100\n",
            "240/240 [==============================] - 0s 2ms/step - loss: 27.3931\n",
            "Epoch 53/100\n",
            "240/240 [==============================] - 0s 2ms/step - loss: 27.1147\n",
            "Epoch 54/100\n",
            "240/240 [==============================] - 0s 2ms/step - loss: 27.1808\n",
            "Epoch 55/100\n",
            "240/240 [==============================] - 0s 2ms/step - loss: 26.4987\n",
            "Epoch 56/100\n",
            "240/240 [==============================] - 0s 2ms/step - loss: 26.8908\n",
            "Epoch 57/100\n",
            "240/240 [==============================] - 0s 2ms/step - loss: 26.4311\n",
            "Epoch 58/100\n",
            "240/240 [==============================] - 0s 2ms/step - loss: 26.8133\n",
            "Epoch 59/100\n",
            "240/240 [==============================] - 0s 2ms/step - loss: 26.7925\n",
            "Epoch 60/100\n",
            "240/240 [==============================] - 0s 2ms/step - loss: 26.2037\n",
            "Epoch 61/100\n",
            "240/240 [==============================] - 0s 2ms/step - loss: 26.4472\n",
            "Epoch 62/100\n",
            "240/240 [==============================] - 0s 2ms/step - loss: 26.5331\n",
            "Epoch 63/100\n",
            "240/240 [==============================] - 0s 2ms/step - loss: 26.6411\n",
            "Epoch 64/100\n",
            "240/240 [==============================] - 1s 2ms/step - loss: 26.4878\n",
            "Epoch 65/100\n",
            "240/240 [==============================] - 1s 2ms/step - loss: 26.6962\n",
            "Epoch 66/100\n",
            "240/240 [==============================] - 1s 2ms/step - loss: 26.6463\n",
            "Epoch 67/100\n",
            "240/240 [==============================] - 1s 2ms/step - loss: 27.3685\n",
            "Epoch 68/100\n",
            "240/240 [==============================] - 1s 2ms/step - loss: 26.3038\n",
            "Epoch 69/100\n",
            "240/240 [==============================] - 0s 2ms/step - loss: 26.3885\n",
            "Epoch 70/100\n",
            "240/240 [==============================] - 0s 2ms/step - loss: 26.4063\n",
            "Epoch 71/100\n",
            "240/240 [==============================] - 0s 2ms/step - loss: 26.3789\n",
            "Epoch 72/100\n",
            "240/240 [==============================] - 0s 2ms/step - loss: 26.0911\n",
            "Epoch 73/100\n",
            "240/240 [==============================] - 0s 2ms/step - loss: 26.2562\n",
            "Epoch 74/100\n",
            "240/240 [==============================] - 0s 2ms/step - loss: 26.5330\n",
            "Epoch 75/100\n",
            "240/240 [==============================] - 0s 2ms/step - loss: 26.6401\n",
            "Epoch 76/100\n",
            "240/240 [==============================] - 0s 2ms/step - loss: 26.4986\n",
            "Epoch 77/100\n",
            "240/240 [==============================] - 0s 2ms/step - loss: 26.4061\n",
            "Epoch 78/100\n",
            "240/240 [==============================] - 0s 2ms/step - loss: 26.3720\n",
            "Epoch 79/100\n",
            "240/240 [==============================] - 0s 2ms/step - loss: 26.5754\n",
            "Epoch 80/100\n",
            "240/240 [==============================] - 0s 2ms/step - loss: 26.3367\n",
            "Epoch 81/100\n",
            "240/240 [==============================] - 0s 2ms/step - loss: 26.5609\n",
            "Epoch 82/100\n",
            "240/240 [==============================] - 0s 2ms/step - loss: 26.5138\n",
            "Epoch 83/100\n",
            "240/240 [==============================] - 0s 2ms/step - loss: 26.2359\n",
            "Epoch 84/100\n",
            "240/240 [==============================] - 0s 2ms/step - loss: 26.7858\n",
            "Epoch 85/100\n",
            "240/240 [==============================] - 0s 2ms/step - loss: 26.5209\n",
            "Epoch 86/100\n",
            "240/240 [==============================] - 0s 2ms/step - loss: 26.4646\n",
            "Epoch 87/100\n",
            "240/240 [==============================] - 0s 2ms/step - loss: 26.4921\n",
            "Epoch 88/100\n",
            "240/240 [==============================] - 0s 2ms/step - loss: 26.1417\n",
            "Epoch 89/100\n",
            "240/240 [==============================] - 0s 2ms/step - loss: 26.4901\n",
            "Epoch 90/100\n",
            "240/240 [==============================] - 0s 2ms/step - loss: 26.6424\n",
            "Epoch 91/100\n",
            "240/240 [==============================] - 0s 2ms/step - loss: 26.4651\n",
            "Epoch 92/100\n",
            "240/240 [==============================] - 0s 2ms/step - loss: 26.2827\n",
            "Epoch 93/100\n",
            "240/240 [==============================] - 0s 2ms/step - loss: 26.8181\n",
            "Epoch 94/100\n",
            "240/240 [==============================] - 1s 3ms/step - loss: 26.7159\n",
            "Epoch 95/100\n",
            "240/240 [==============================] - 1s 3ms/step - loss: 26.2859\n",
            "Epoch 96/100\n",
            "240/240 [==============================] - 1s 3ms/step - loss: 26.7110\n",
            "Epoch 97/100\n",
            "240/240 [==============================] - 1s 2ms/step - loss: 26.5382\n",
            "Epoch 98/100\n",
            "240/240 [==============================] - 1s 2ms/step - loss: 26.4077\n",
            "Epoch 99/100\n",
            "240/240 [==============================] - 0s 2ms/step - loss: 26.3986\n",
            "Epoch 100/100\n",
            "240/240 [==============================] - 0s 2ms/step - loss: 26.2122\n"
          ]
        },
        {
          "output_type": "execute_result",
          "data": {
            "text/plain": [
              "<keras.callbacks.History at 0x78b42c57b850>"
            ]
          },
          "metadata": {},
          "execution_count": 50
        }
      ]
    },
    {
      "cell_type": "markdown",
      "source": [
        "## predicting the test set"
      ],
      "metadata": {
        "id": "LjTkAMvD5CS8"
      }
    },
    {
      "cell_type": "code",
      "source": [
        "y_pred = ann.predict(X_test)"
      ],
      "metadata": {
        "colab": {
          "base_uri": "https://localhost:8080/"
        },
        "id": "-_vUmKZg4GDT",
        "outputId": "110f3647-636f-4144-84c5-d122104d7334"
      },
      "execution_count": 51,
      "outputs": [
        {
          "output_type": "stream",
          "name": "stdout",
          "text": [
            "60/60 [==============================] - 0s 1ms/step\n"
          ]
        }
      ]
    },
    {
      "cell_type": "code",
      "source": [
        "np.set_printoptions(precision=2)\n",
        "print(np.concatenate((y_pred.reshape(len(y_pred),1), y_test.reshape(len(y_test),1)),1))"
      ],
      "metadata": {
        "colab": {
          "base_uri": "https://localhost:8080/"
        },
        "id": "dO0k0tFZ4GGF",
        "outputId": "97540bf5-e15a-4b3b-b1e4-906dbf3b53f2"
      },
      "execution_count": 52,
      "outputs": [
        {
          "output_type": "stream",
          "name": "stdout",
          "text": [
            "[[457.48 455.27]\n",
            " [439.61 436.31]\n",
            " [434.46 440.68]\n",
            " ...\n",
            " [482.03 479.53]\n",
            " [436.58 435.76]\n",
            " [460.74 457.1 ]]\n"
          ]
        }
      ]
    },
    {
      "cell_type": "code",
      "source": [],
      "metadata": {
        "id": "OL59zytQ4GJh"
      },
      "execution_count": 52,
      "outputs": []
    }
  ]
}