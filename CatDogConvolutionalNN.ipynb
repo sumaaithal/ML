{
  "nbformat": 4,
  "nbformat_minor": 0,
  "metadata": {
    "colab": {
      "provenance": [],
      "authorship_tag": "ABX9TyPwVQcvJv1oCgC33MSFCeb/",
      "include_colab_link": true
    },
    "kernelspec": {
      "name": "python3",
      "display_name": "Python 3"
    },
    "language_info": {
      "name": "python"
    }
  },
  "cells": [
    {
      "cell_type": "markdown",
      "metadata": {
        "id": "view-in-github",
        "colab_type": "text"
      },
      "source": [
        "<a href=\"https://colab.research.google.com/github/sumaaithal/ML/blob/main/CatDogConvolutionalNN.ipynb\" target=\"_parent\"><img src=\"https://colab.research.google.com/assets/colab-badge.svg\" alt=\"Open In Colab\"/></a>"
      ]
    },
    {
      "cell_type": "markdown",
      "source": [
        "## import the standard library"
      ],
      "metadata": {
        "id": "DvODBhIo8Pbo"
      }
    },
    {
      "cell_type": "code",
      "execution_count": 1,
      "metadata": {
        "id": "VH5xevMo6N3Q"
      },
      "outputs": [],
      "source": [
        "import matplotlib.pyplot as plt\n",
        "import tensorflow as tf\n",
        "from keras.preprocessing.image import ImageDataGenerator\n",
        "import numpy as np\n",
        "from keras.preprocessing import image"
      ]
    },
    {
      "cell_type": "code",
      "source": [
        "tf.__version__"
      ],
      "metadata": {
        "colab": {
          "base_uri": "https://localhost:8080/",
          "height": 35
        },
        "id": "eMkwMEA_GnW1",
        "outputId": "8b7c1345-64e0-42de-e3ef-5a527f387767"
      },
      "execution_count": 2,
      "outputs": [
        {
          "output_type": "execute_result",
          "data": {
            "text/plain": [
              "'2.13.0'"
            ],
            "application/vnd.google.colaboratory.intrinsic+json": {
              "type": "string"
            }
          },
          "metadata": {},
          "execution_count": 2
        }
      ]
    },
    {
      "cell_type": "code",
      "source": [
        "from google.colab import drive\n",
        "drive.mount('/content/drive')"
      ],
      "metadata": {
        "id": "aUQMWglCQHoQ",
        "colab": {
          "base_uri": "https://localhost:8080/"
        },
        "outputId": "15661317-62c3-434f-b777-4dc56ef74c7e"
      },
      "execution_count": 3,
      "outputs": [
        {
          "output_type": "stream",
          "name": "stdout",
          "text": [
            "Mounted at /content/drive\n"
          ]
        }
      ]
    },
    {
      "cell_type": "markdown",
      "source": [
        "## Data PreProcessing"
      ],
      "metadata": {
        "id": "H2aqmIdwG2_A"
      }
    },
    {
      "cell_type": "markdown",
      "source": [
        "### preprocessing training data"
      ],
      "metadata": {
        "id": "EmBikijsG-bj"
      }
    },
    {
      "cell_type": "code",
      "source": [
        "train_datagen = ImageDataGenerator(\n",
        "    rescale = 1./255,\n",
        "    shear_range = 0.2,\n",
        "    zoom_range = 0.2,\n",
        "    horizontal_flip = True\n",
        ")\n",
        "\n",
        "training_set = train_datagen.flow_from_directory(\"/content/drive/MyDrive/dataset/training_set\",\n",
        "                                  target_size=(64,64),\n",
        "                                  batch_size=32,\n",
        "                                  class_mode=\"binary\")"
      ],
      "metadata": {
        "id": "E2yU-to_GnaL",
        "colab": {
          "base_uri": "https://localhost:8080/"
        },
        "outputId": "affbfa6a-aaf9-4d47-b3e7-dd93e0de4b26"
      },
      "execution_count": 4,
      "outputs": [
        {
          "output_type": "stream",
          "name": "stdout",
          "text": [
            "Found 8020 images belonging to 2 classes.\n"
          ]
        }
      ]
    },
    {
      "cell_type": "code",
      "source": [
        "test_datagen = ImageDataGenerator(\n",
        "    rescale = 1./255,\n",
        ")\n",
        "\n",
        "testing_set = test_datagen.flow_from_directory(\"/content/drive/MyDrive/dataset/test_set\",\n",
        "                                  target_size=(64,64),\n",
        "                                  batch_size=32,\n",
        "                                  class_mode=\"binary\")"
      ],
      "metadata": {
        "id": "77q5Y-RFJs5W",
        "colab": {
          "base_uri": "https://localhost:8080/"
        },
        "outputId": "1b5fb433-04fc-4b7d-ee34-f37a0f40a366"
      },
      "execution_count": 5,
      "outputs": [
        {
          "output_type": "stream",
          "name": "stdout",
          "text": [
            "Found 2000 images belonging to 2 classes.\n"
          ]
        }
      ]
    },
    {
      "cell_type": "markdown",
      "source": [
        "## initialize the sequential model"
      ],
      "metadata": {
        "id": "TAJGvpfb1Y_R"
      }
    },
    {
      "cell_type": "code",
      "source": [
        "cnn = tf.keras.models.Sequential()"
      ],
      "metadata": {
        "id": "L07ekOP_1YtC"
      },
      "execution_count": 6,
      "outputs": []
    },
    {
      "cell_type": "markdown",
      "source": [
        "###step 1: convolution"
      ],
      "metadata": {
        "id": "mq1a9LvD2B1r"
      }
    },
    {
      "cell_type": "code",
      "source": [
        "cnn.add(tf.keras.layers.Conv2D(filters=32, kernel_size=(3,3), activation='relu', input_shape=[64,64,3] ))"
      ],
      "metadata": {
        "id": "o1P5zga7Js8C"
      },
      "execution_count": 7,
      "outputs": []
    },
    {
      "cell_type": "markdown",
      "source": [
        "###step 2: Pooling"
      ],
      "metadata": {
        "id": "q-NjzLD682wP"
      }
    },
    {
      "cell_type": "code",
      "source": [
        "cnn.add(tf.keras.layers.MaxPooling2D(pool_size=(2,2), strides=2 ) )"
      ],
      "metadata": {
        "id": "AqrmPIDzJs_k"
      },
      "execution_count": 8,
      "outputs": []
    },
    {
      "cell_type": "markdown",
      "source": [
        "###Adding 2nd convolution layer"
      ],
      "metadata": {
        "id": "dlrR3v05_CK6"
      }
    },
    {
      "cell_type": "code",
      "source": [
        "cnn.add(tf.keras.layers.Conv2D(filters=32, kernel_size=(3,3), activation='relu' ))\n",
        "cnn.add(tf.keras.layers.MaxPooling2D(pool_size=(2,2), strides=2 ) )"
      ],
      "metadata": {
        "id": "XhCGEYRh_ARl"
      },
      "execution_count": 9,
      "outputs": []
    },
    {
      "cell_type": "markdown",
      "source": [
        "###step 3: Flattening"
      ],
      "metadata": {
        "id": "QzOOgGSB_tAH"
      }
    },
    {
      "cell_type": "code",
      "source": [
        "cnn.add(tf.keras.layers.Flatten())"
      ],
      "metadata": {
        "id": "OMfqVomN_AUL"
      },
      "execution_count": 10,
      "outputs": []
    },
    {
      "cell_type": "markdown",
      "source": [
        "###step 4: Full Connection"
      ],
      "metadata": {
        "id": "4WVJTIsVAbBE"
      }
    },
    {
      "cell_type": "code",
      "source": [
        "cnn.add(tf.keras.layers.Dense(units=20, activation='relu'))"
      ],
      "metadata": {
        "id": "dUG1UGkQ_AWp"
      },
      "execution_count": 11,
      "outputs": []
    },
    {
      "cell_type": "markdown",
      "source": [
        "###step 5: Ouput Layer"
      ],
      "metadata": {
        "id": "QS5-MeIRBhi3"
      }
    },
    {
      "cell_type": "code",
      "source": [
        "cnn.add(tf.keras.layers.Dense(units=1, activation='sigmoid')) #sigmoid -> binary #softmax ->multiclass"
      ],
      "metadata": {
        "id": "NAWDmpQx_AZe"
      },
      "execution_count": 12,
      "outputs": []
    },
    {
      "cell_type": "markdown",
      "source": [
        "### Training The CNN"
      ],
      "metadata": {
        "id": "ySTqIaCQCSqP"
      }
    },
    {
      "cell_type": "markdown",
      "source": [
        "####compiling the CNN"
      ],
      "metadata": {
        "id": "a6nTktwPCeZE"
      }
    },
    {
      "cell_type": "code",
      "source": [
        "cnn.compile(optimizer='adam', loss='binary_crossentropy', metrics=['accuracy'] )"
      ],
      "metadata": {
        "id": "zE962dFb_AdK"
      },
      "execution_count": 13,
      "outputs": []
    },
    {
      "cell_type": "markdown",
      "source": [
        "### training and testing the data"
      ],
      "metadata": {
        "id": "tTh6kCJNDkNO"
      }
    },
    {
      "cell_type": "code",
      "source": [
        "cnn.fit(x=training_set, validation_data=testing_set, epochs=25 )"
      ],
      "metadata": {
        "colab": {
          "base_uri": "https://localhost:8080/"
        },
        "id": "pq3Ot0gwCW7V",
        "outputId": "3884a7a8-2a98-4340-a251-902f9b98f448"
      },
      "execution_count": 14,
      "outputs": [
        {
          "output_type": "stream",
          "name": "stdout",
          "text": [
            "Epoch 1/25\n",
            "251/251 [==============================] - 1479s 6s/step - loss: 0.6676 - accuracy: 0.5872 - val_loss: 0.6223 - val_accuracy: 0.6935\n",
            "Epoch 2/25\n",
            "251/251 [==============================] - 50s 199ms/step - loss: 0.5978 - accuracy: 0.6837 - val_loss: 0.5591 - val_accuracy: 0.7190\n",
            "Epoch 3/25\n",
            "251/251 [==============================] - 45s 181ms/step - loss: 0.5535 - accuracy: 0.7208 - val_loss: 0.5152 - val_accuracy: 0.7460\n",
            "Epoch 4/25\n",
            "251/251 [==============================] - 46s 185ms/step - loss: 0.5192 - accuracy: 0.7387 - val_loss: 0.5101 - val_accuracy: 0.7520\n",
            "Epoch 5/25\n",
            "251/251 [==============================] - 44s 177ms/step - loss: 0.5022 - accuracy: 0.7539 - val_loss: 0.5053 - val_accuracy: 0.7550\n",
            "Epoch 6/25\n",
            "251/251 [==============================] - 45s 180ms/step - loss: 0.4855 - accuracy: 0.7648 - val_loss: 0.4936 - val_accuracy: 0.7750\n",
            "Epoch 7/25\n",
            "251/251 [==============================] - 45s 181ms/step - loss: 0.4683 - accuracy: 0.7771 - val_loss: 0.4993 - val_accuracy: 0.7665\n",
            "Epoch 8/25\n",
            "251/251 [==============================] - 50s 201ms/step - loss: 0.4594 - accuracy: 0.7808 - val_loss: 0.4761 - val_accuracy: 0.7810\n",
            "Epoch 9/25\n",
            "251/251 [==============================] - 46s 184ms/step - loss: 0.4402 - accuracy: 0.7955 - val_loss: 0.4546 - val_accuracy: 0.7880\n",
            "Epoch 10/25\n",
            "251/251 [==============================] - 46s 183ms/step - loss: 0.4339 - accuracy: 0.7955 - val_loss: 0.4660 - val_accuracy: 0.7870\n",
            "Epoch 11/25\n",
            "251/251 [==============================] - 45s 180ms/step - loss: 0.4250 - accuracy: 0.7995 - val_loss: 0.4859 - val_accuracy: 0.7730\n",
            "Epoch 12/25\n",
            "251/251 [==============================] - 52s 206ms/step - loss: 0.4145 - accuracy: 0.8047 - val_loss: 0.4630 - val_accuracy: 0.7720\n",
            "Epoch 13/25\n",
            "251/251 [==============================] - 50s 200ms/step - loss: 0.4085 - accuracy: 0.8101 - val_loss: 0.4297 - val_accuracy: 0.8035\n",
            "Epoch 14/25\n",
            "251/251 [==============================] - 46s 183ms/step - loss: 0.3958 - accuracy: 0.8160 - val_loss: 0.4692 - val_accuracy: 0.7840\n",
            "Epoch 15/25\n",
            "251/251 [==============================] - 45s 179ms/step - loss: 0.3915 - accuracy: 0.8209 - val_loss: 0.4616 - val_accuracy: 0.7955\n",
            "Epoch 16/25\n",
            "251/251 [==============================] - 45s 179ms/step - loss: 0.3861 - accuracy: 0.8207 - val_loss: 0.4389 - val_accuracy: 0.7940\n",
            "Epoch 17/25\n",
            "251/251 [==============================] - 50s 198ms/step - loss: 0.3849 - accuracy: 0.8224 - val_loss: 0.4284 - val_accuracy: 0.8065\n",
            "Epoch 18/25\n",
            "251/251 [==============================] - 45s 180ms/step - loss: 0.3668 - accuracy: 0.8360 - val_loss: 0.4409 - val_accuracy: 0.8055\n",
            "Epoch 19/25\n",
            "251/251 [==============================] - 46s 182ms/step - loss: 0.3648 - accuracy: 0.8363 - val_loss: 0.4299 - val_accuracy: 0.8100\n",
            "Epoch 20/25\n",
            "251/251 [==============================] - 45s 180ms/step - loss: 0.3547 - accuracy: 0.8394 - val_loss: 0.4998 - val_accuracy: 0.7720\n",
            "Epoch 21/25\n",
            "251/251 [==============================] - 50s 200ms/step - loss: 0.3504 - accuracy: 0.8401 - val_loss: 0.4618 - val_accuracy: 0.7985\n",
            "Epoch 22/25\n",
            "251/251 [==============================] - 46s 185ms/step - loss: 0.3389 - accuracy: 0.8502 - val_loss: 0.4537 - val_accuracy: 0.7995\n",
            "Epoch 23/25\n",
            "251/251 [==============================] - 45s 178ms/step - loss: 0.3485 - accuracy: 0.8465 - val_loss: 0.4483 - val_accuracy: 0.7965\n",
            "Epoch 24/25\n",
            "251/251 [==============================] - 46s 182ms/step - loss: 0.3279 - accuracy: 0.8559 - val_loss: 0.4520 - val_accuracy: 0.8040\n",
            "Epoch 25/25\n",
            "251/251 [==============================] - 46s 182ms/step - loss: 0.3355 - accuracy: 0.8519 - val_loss: 0.4873 - val_accuracy: 0.7880\n"
          ]
        },
        {
          "output_type": "execute_result",
          "data": {
            "text/plain": [
              "<keras.src.callbacks.History at 0x7bcc184bf4f0>"
            ]
          },
          "metadata": {},
          "execution_count": 14
        }
      ]
    },
    {
      "cell_type": "markdown",
      "source": [
        "### making single prediction"
      ],
      "metadata": {
        "id": "uj7jsbXyFkuJ"
      }
    },
    {
      "cell_type": "code",
      "source": [
        "!unzip \"/content/Single_test.zip\""
      ],
      "metadata": {
        "colab": {
          "base_uri": "https://localhost:8080/"
        },
        "id": "jgIiJU6p3J_m",
        "outputId": "7151c772-956c-4cb5-cb5a-da13c87ba2f6"
      },
      "execution_count": 15,
      "outputs": [
        {
          "output_type": "stream",
          "name": "stdout",
          "text": [
            "Archive:  /content/Single_test.zip\n",
            "   creating: Single_test/\n",
            "  inflating: Single_test/cat.4150.jpg  \n",
            "  inflating: Single_test/dog.4004.jpg  \n"
          ]
        }
      ]
    },
    {
      "cell_type": "code",
      "source": [
        "test_img = image.load_img(\"/content/Single_test/cat_or_dog.4150.jpg\", target_size=(64,64) )"
      ],
      "metadata": {
        "id": "xHallHIH2nKP"
      },
      "execution_count": 25,
      "outputs": []
    },
    {
      "cell_type": "code",
      "source": [
        "## convert to 2 day array"
      ],
      "metadata": {
        "id": "tKK-Oxqs2nNq"
      },
      "execution_count": 17,
      "outputs": []
    },
    {
      "cell_type": "code",
      "source": [
        "test_img = image.img_to_array(test_img)"
      ],
      "metadata": {
        "id": "DMMfMZtz2nQm"
      },
      "execution_count": 26,
      "outputs": []
    },
    {
      "cell_type": "code",
      "source": [
        "#convert to batch -> extra dim"
      ],
      "metadata": {
        "id": "QPUFWoQi2nUD"
      },
      "execution_count": 19,
      "outputs": []
    },
    {
      "cell_type": "code",
      "source": [
        "test_img = np.expand_dims(test_img, axis=0)"
      ],
      "metadata": {
        "id": "-BzJKZ3o5bEP"
      },
      "execution_count": 27,
      "outputs": []
    },
    {
      "cell_type": "code",
      "source": [
        "res = cnn.predict(test_img)\n",
        "\n",
        "#encoding\n",
        "training_set.class_indices\n",
        "\n",
        "if res[0][0] == 0:\n",
        "  print(\"cat\")\n",
        "else:\n",
        "  print(\"dog\")"
      ],
      "metadata": {
        "colab": {
          "base_uri": "https://localhost:8080/"
        },
        "id": "o_83YpQM5bHs",
        "outputId": "bcb55d76-4394-468c-b10e-248aa5ccf2ed"
      },
      "execution_count": 28,
      "outputs": [
        {
          "output_type": "stream",
          "name": "stdout",
          "text": [
            "1/1 [==============================] - 0s 73ms/step\n",
            "dog\n"
          ]
        }
      ]
    },
    {
      "cell_type": "code",
      "source": [],
      "metadata": {
        "id": "oJz_Vrcu6nBk"
      },
      "execution_count": null,
      "outputs": []
    },
    {
      "cell_type": "code",
      "source": [],
      "metadata": {
        "id": "XIh2dHC_6nEZ"
      },
      "execution_count": null,
      "outputs": []
    },
    {
      "cell_type": "code",
      "source": [],
      "metadata": {
        "id": "h415x7pQ6nG6"
      },
      "execution_count": null,
      "outputs": []
    },
    {
      "cell_type": "code",
      "source": [],
      "metadata": {
        "id": "FSg3jGJZ6nKS"
      },
      "execution_count": null,
      "outputs": []
    }
  ]
}